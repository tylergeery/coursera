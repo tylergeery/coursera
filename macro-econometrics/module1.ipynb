{
 "cells": [
  {
   "cell_type": "code",
   "execution_count": 6,
   "metadata": {
    "collapsed": false
   },
   "outputs": [],
   "source": [
    "%matplotlib inline"
   ]
  },
  {
   "cell_type": "code",
   "execution_count": 16,
   "metadata": {
    "collapsed": false
   },
   "outputs": [
    {
     "data": {
      "text/html": [
       "<div>\n",
       "<table border=\"1\" class=\"dataframe\">\n",
       "  <thead>\n",
       "    <tr style=\"text-align: right;\">\n",
       "      <th></th>\n",
       "      <th>tri_curr_avg</th>\n",
       "      <th>tri_curr_eop</th>\n",
       "      <th>tri_tot_empl</th>\n",
       "      <th>tri_unemp_rate</th>\n",
       "      <th>tri_ngdp</th>\n",
       "      <th>tri_rgdp</th>\n",
       "      <th>tri_nimp</th>\n",
       "      <th>tri_rimp</th>\n",
       "      <th>tri_nexp</th>\n",
       "      <th>tri_rexp</th>\n",
       "      <th>tri_cpi_avg</th>\n",
       "      <th>tri_cpi_eop</th>\n",
       "      <th>tri_value_imp</th>\n",
       "      <th>tri_vol_imp</th>\n",
       "      <th>tri_value_exp</th>\n",
       "      <th>tri_vol_exp</th>\n",
       "    </tr>\n",
       "  </thead>\n",
       "  <tbody>\n",
       "    <tr>\n",
       "      <th>2010</th>\n",
       "      <td>6.375508</td>\n",
       "      <td>6.4234</td>\n",
       "      <td>0.592000</td>\n",
       "      <td>5.9</td>\n",
       "      <td>131.289400</td>\n",
       "      <td>89.029200</td>\n",
       "      <td>43.928065</td>\n",
       "      <td>22.140608</td>\n",
       "      <td>77.229634</td>\n",
       "      <td>56.873944</td>\n",
       "      <td>197.015551</td>\n",
       "      <td>193.706221</td>\n",
       "      <td>6.890127</td>\n",
       "      <td>5.076528</td>\n",
       "      <td>12.113487</td>\n",
       "      <td>9.022689</td>\n",
       "    </tr>\n",
       "    <tr>\n",
       "      <th>2011</th>\n",
       "      <td>6.409301</td>\n",
       "      <td>6.4156</td>\n",
       "      <td>0.596000</td>\n",
       "      <td>5.0</td>\n",
       "      <td>150.373200</td>\n",
       "      <td>86.731300</td>\n",
       "      <td>63.735235</td>\n",
       "      <td>27.251990</td>\n",
       "      <td>101.801214</td>\n",
       "      <td>NaN</td>\n",
       "      <td>207.071484</td>\n",
       "      <td>203.918258</td>\n",
       "      <td>9.944179</td>\n",
       "      <td>6.226105</td>\n",
       "      <td>15.883357</td>\n",
       "      <td>10.204260</td>\n",
       "    </tr>\n",
       "    <tr>\n",
       "      <th>2012</th>\n",
       "      <td>6.429603</td>\n",
       "      <td>6.4323</td>\n",
       "      <td>0.601000</td>\n",
       "      <td>4.8</td>\n",
       "      <td>169.767208</td>\n",
       "      <td>87.810900</td>\n",
       "      <td>61.021166</td>\n",
       "      <td>26.446259</td>\n",
       "      <td>89.684334</td>\n",
       "      <td>NaN</td>\n",
       "      <td>226.253811</td>\n",
       "      <td>218.537595</td>\n",
       "      <td>9.490659</td>\n",
       "      <td>5.981241</td>\n",
       "      <td>13.948659</td>\n",
       "      <td>9.038510</td>\n",
       "    </tr>\n",
       "    <tr>\n",
       "      <th>2013</th>\n",
       "      <td>6.442629</td>\n",
       "      <td>6.4665</td>\n",
       "      <td>0.606042</td>\n",
       "      <td>3.7</td>\n",
       "      <td>178.583153</td>\n",
       "      <td>89.229784</td>\n",
       "      <td>66.198203</td>\n",
       "      <td>28.940986</td>\n",
       "      <td>106.167937</td>\n",
       "      <td>55.393110</td>\n",
       "      <td>238.018596</td>\n",
       "      <td>230.792040</td>\n",
       "      <td>10.275029</td>\n",
       "      <td>6.553452</td>\n",
       "      <td>16.478976</td>\n",
       "      <td>10.806908</td>\n",
       "    </tr>\n",
       "    <tr>\n",
       "      <th>2014</th>\n",
       "      <td>6.442629</td>\n",
       "      <td>6.4665</td>\n",
       "      <td>0.611126</td>\n",
       "      <td>5.0</td>\n",
       "      <td>190.887663</td>\n",
       "      <td>91.315859</td>\n",
       "      <td>65.479132</td>\n",
       "      <td>28.862351</td>\n",
       "      <td>107.603511</td>\n",
       "      <td>53.967259</td>\n",
       "      <td>249.095359</td>\n",
       "      <td>239.331345</td>\n",
       "      <td>10.163417</td>\n",
       "      <td>6.484589</td>\n",
       "      <td>16.701801</td>\n",
       "      <td>10.951770</td>\n",
       "    </tr>\n",
       "  </tbody>\n",
       "</table>\n",
       "</div>"
      ],
      "text/plain": [
       "      tri_curr_avg  tri_curr_eop  tri_tot_empl  tri_unemp_rate    tri_ngdp  \\\n",
       "2010      6.375508        6.4234      0.592000             5.9  131.289400   \n",
       "2011      6.409301        6.4156      0.596000             5.0  150.373200   \n",
       "2012      6.429603        6.4323      0.601000             4.8  169.767208   \n",
       "2013      6.442629        6.4665      0.606042             3.7  178.583153   \n",
       "2014      6.442629        6.4665      0.611126             5.0  190.887663   \n",
       "\n",
       "       tri_rgdp   tri_nimp   tri_rimp    tri_nexp   tri_rexp  tri_cpi_avg  \\\n",
       "2010  89.029200  43.928065  22.140608   77.229634  56.873944   197.015551   \n",
       "2011  86.731300  63.735235  27.251990  101.801214        NaN   207.071484   \n",
       "2012  87.810900  61.021166  26.446259   89.684334        NaN   226.253811   \n",
       "2013  89.229784  66.198203  28.940986  106.167937  55.393110   238.018596   \n",
       "2014  91.315859  65.479132  28.862351  107.603511  53.967259   249.095359   \n",
       "\n",
       "      tri_cpi_eop  tri_value_imp  tri_vol_imp  tri_value_exp  tri_vol_exp  \n",
       "2010   193.706221       6.890127     5.076528      12.113487     9.022689  \n",
       "2011   203.918258       9.944179     6.226105      15.883357    10.204260  \n",
       "2012   218.537595       9.490659     5.981241      13.948659     9.038510  \n",
       "2013   230.792040      10.275029     6.553452      16.478976    10.806908  \n",
       "2014   239.331345      10.163417     6.484589      16.701801    10.951770  "
      ]
     },
     "execution_count": 16,
     "metadata": {},
     "output_type": "execute_result"
    }
   ],
   "source": [
    "import pandas as pd\n",
    "import numpy as np\n",
    "\n",
    "bah_df = pd.read_excel(\"~/Downloads/Module2_Caribbean_Assessment_File.xlsx\", skiprows=[1], index_col=0)\n",
    "jam_df = pd.read_excel(\"~/Downloads/Module2_Caribbean_Assessment_File.xlsx\", sheetname=1, skiprows=[1], index_col=0)\n",
    "trin_df = pd.read_excel(\"~/Downloads/Module2_Caribbean_Assessment_File.xlsx\", sheetname=2, skiprows=[1], index_col=0)\n",
    "dom_df = pd.read_excel(\"~/Downloads/Module2_Caribbean_Assessment_File.xlsx\", sheetname=3, skiprows=[1], index_col=0)\n",
    "trin_df.tail()"
   ]
  },
  {
   "cell_type": "code",
   "execution_count": 8,
   "metadata": {
    "collapsed": false
   },
   "outputs": [
    {
     "data": {
      "text/plain": [
       "6.215937538048983"
      ]
     },
     "execution_count": 8,
     "metadata": {},
     "output_type": "execute_result"
    }
   ],
   "source": [
    "### Avg GDP\n",
    "bah_df['bah_rgdp'].mean()"
   ]
  },
  {
   "cell_type": "code",
   "execution_count": 9,
   "metadata": {
    "collapsed": false
   },
   "outputs": [
    {
     "data": {
      "text/plain": [
       "415.46300036960298"
      ]
     },
     "execution_count": 9,
     "metadata": {},
     "output_type": "execute_result"
    }
   ],
   "source": [
    "### Jam Max Cpi_avg\n",
    "jam_df['jam_cpi_avg'].max()"
   ]
  },
  {
   "cell_type": "code",
   "execution_count": 10,
   "metadata": {
    "collapsed": false
   },
   "outputs": [
    {
     "data": {
      "text/plain": [
       "6.531737484184765"
      ]
     },
     "execution_count": 10,
     "metadata": {},
     "output_type": "execute_result"
    }
   ],
   "source": [
    "### Median Dom Unemployment Rate\n",
    "dom_df['dom_unemp_rate'].median()"
   ]
  },
  {
   "cell_type": "code",
   "execution_count": 11,
   "metadata": {
    "collapsed": false
   },
   "outputs": [
    {
     "data": {
      "text/plain": [
       "[0.0105004069191354,\n",
       " 0.053000000000002698,\n",
       " 0.012000000000000068,\n",
       " 0.023378687982485519]"
      ]
     },
     "execution_count": 11,
     "metadata": {},
     "output_type": "execute_result"
    }
   ],
   "source": [
    "### Get Max 2014 growth from 4 countries\n",
    "jam_2014_growth = (jam_df['jam_rgdp'][2014] - jam_df['jam_rgdp'][2013])/jam_df['jam_rgdp'][2013]\n",
    "dom_2014_growth = (dom_df['dom_rgdp'][2014] - dom_df['dom_rgdp'][2013])/dom_df['dom_rgdp'][2013]\n",
    "bah_2014_growth = (bah_df['bah_rgdp'][2014] - bah_df['bah_rgdp'][2013])/bah_df['bah_rgdp'][2013]\n",
    "trin_2014_growth = (trin_df['tri_rgdp'][2014] - trin_df['tri_rgdp'][2013])/trin_df['tri_rgdp'][2013]\n",
    "[jam_2014_growth, dom_2014_growth, bah_2014_growth, trin_2014_growth]"
   ]
  },
  {
   "cell_type": "code",
   "execution_count": 12,
   "metadata": {
    "collapsed": false
   },
   "outputs": [
    {
     "data": {
      "text/html": [
       "<div>\n",
       "<table border=\"1\" class=\"dataframe\">\n",
       "  <thead>\n",
       "    <tr style=\"text-align: right;\">\n",
       "      <th></th>\n",
       "      <th>jam_curr_avg</th>\n",
       "      <th>jam_curr_eop</th>\n",
       "      <th>jam_tot_empl</th>\n",
       "      <th>jam_unemp_rate</th>\n",
       "      <th>jam_ngdp</th>\n",
       "      <th>jam_rgdp</th>\n",
       "      <th>jam_nimp</th>\n",
       "      <th>jam_rimp</th>\n",
       "      <th>jam_nexp</th>\n",
       "      <th>jam_rexp</th>\n",
       "      <th>...</th>\n",
       "      <th>tri_nimp</th>\n",
       "      <th>tri_rimp</th>\n",
       "      <th>tri_nexp</th>\n",
       "      <th>tri_rexp</th>\n",
       "      <th>tri_cpi_avg</th>\n",
       "      <th>tri_cpi_eop</th>\n",
       "      <th>tri_value_imp</th>\n",
       "      <th>tri_vol_imp</th>\n",
       "      <th>tri_value_exp</th>\n",
       "      <th>tri_vol_exp</th>\n",
       "    </tr>\n",
       "  </thead>\n",
       "  <tbody>\n",
       "    <tr>\n",
       "      <th>1980</th>\n",
       "      <td>1.78</td>\n",
       "      <td>NaN</td>\n",
       "      <td>0.695628</td>\n",
       "      <td>27.262318</td>\n",
       "      <td>4.565363</td>\n",
       "      <td>457.463232</td>\n",
       "      <td>2.699363</td>\n",
       "      <td>NaN</td>\n",
       "      <td>2.564942</td>\n",
       "      <td>NaN</td>\n",
       "      <td>...</td>\n",
       "      <td>5.845231</td>\n",
       "      <td>22.976771</td>\n",
       "      <td>7.536496</td>\n",
       "      <td>11.147396</td>\n",
       "      <td>21.199595</td>\n",
       "      <td>NaN</td>\n",
       "      <td>2.434417</td>\n",
       "      <td>3.466447</td>\n",
       "      <td>3.138857</td>\n",
       "      <td>3.984715</td>\n",
       "    </tr>\n",
       "    <tr>\n",
       "      <th>1981</th>\n",
       "      <td>1.78</td>\n",
       "      <td>NaN</td>\n",
       "      <td>0.727298</td>\n",
       "      <td>25.940575</td>\n",
       "      <td>5.015010</td>\n",
       "      <td>477.683457</td>\n",
       "      <td>3.271429</td>\n",
       "      <td>NaN</td>\n",
       "      <td>2.514608</td>\n",
       "      <td>NaN</td>\n",
       "      <td>...</td>\n",
       "      <td>5.950479</td>\n",
       "      <td>20.696723</td>\n",
       "      <td>7.547601</td>\n",
       "      <td>9.831831</td>\n",
       "      <td>24.237897</td>\n",
       "      <td>NaN</td>\n",
       "      <td>2.478250</td>\n",
       "      <td>3.504405</td>\n",
       "      <td>3.143482</td>\n",
       "      <td>3.301179</td>\n",
       "    </tr>\n",
       "    <tr>\n",
       "      <th>1982</th>\n",
       "      <td>1.78</td>\n",
       "      <td>NaN</td>\n",
       "      <td>0.728393</td>\n",
       "      <td>27.576984</td>\n",
       "      <td>5.758048</td>\n",
       "      <td>492.393773</td>\n",
       "      <td>3.433852</td>\n",
       "      <td>NaN</td>\n",
       "      <td>2.393040</td>\n",
       "      <td>NaN</td>\n",
       "      <td>...</td>\n",
       "      <td>8.089642</td>\n",
       "      <td>24.169345</td>\n",
       "      <td>6.696851</td>\n",
       "      <td>9.454611</td>\n",
       "      <td>27.057919</td>\n",
       "      <td>NaN</td>\n",
       "      <td>3.369167</td>\n",
       "      <td>4.092396</td>\n",
       "      <td>2.789155</td>\n",
       "      <td>3.174521</td>\n",
       "    </tr>\n",
       "    <tr>\n",
       "      <th>1983</th>\n",
       "      <td>2.47</td>\n",
       "      <td>NaN</td>\n",
       "      <td>0.739348</td>\n",
       "      <td>26.378420</td>\n",
       "      <td>7.101833</td>\n",
       "      <td>512.841717</td>\n",
       "      <td>4.120072</td>\n",
       "      <td>NaN</td>\n",
       "      <td>3.476322</td>\n",
       "      <td>NaN</td>\n",
       "      <td>...</td>\n",
       "      <td>7.517084</td>\n",
       "      <td>23.880103</td>\n",
       "      <td>5.631814</td>\n",
       "      <td>9.037296</td>\n",
       "      <td>31.163959</td>\n",
       "      <td>NaN</td>\n",
       "      <td>3.130708</td>\n",
       "      <td>4.043421</td>\n",
       "      <td>2.345580</td>\n",
       "      <td>3.034402</td>\n",
       "    </tr>\n",
       "    <tr>\n",
       "      <th>1984</th>\n",
       "      <td>4.36</td>\n",
       "      <td>NaN</td>\n",
       "      <td>0.775797</td>\n",
       "      <td>25.511570</td>\n",
       "      <td>9.238804</td>\n",
       "      <td>517.712364</td>\n",
       "      <td>6.843410</td>\n",
       "      <td>NaN</td>\n",
       "      <td>6.155112</td>\n",
       "      <td>NaN</td>\n",
       "      <td>...</td>\n",
       "      <td>6.133061</td>\n",
       "      <td>22.337196</td>\n",
       "      <td>5.857806</td>\n",
       "      <td>10.464674</td>\n",
       "      <td>35.319604</td>\n",
       "      <td>NaN</td>\n",
       "      <td>2.554292</td>\n",
       "      <td>3.782173</td>\n",
       "      <td>2.439704</td>\n",
       "      <td>3.513664</td>\n",
       "    </tr>\n",
       "  </tbody>\n",
       "</table>\n",
       "<p>5 rows × 64 columns</p>\n",
       "</div>"
      ],
      "text/plain": [
       "      jam_curr_avg  jam_curr_eop  jam_tot_empl  jam_unemp_rate  jam_ngdp  \\\n",
       "1980          1.78           NaN      0.695628       27.262318  4.565363   \n",
       "1981          1.78           NaN      0.727298       25.940575  5.015010   \n",
       "1982          1.78           NaN      0.728393       27.576984  5.758048   \n",
       "1983          2.47           NaN      0.739348       26.378420  7.101833   \n",
       "1984          4.36           NaN      0.775797       25.511570  9.238804   \n",
       "\n",
       "        jam_rgdp  jam_nimp  jam_rimp  jam_nexp  jam_rexp     ...       \\\n",
       "1980  457.463232  2.699363       NaN  2.564942       NaN     ...        \n",
       "1981  477.683457  3.271429       NaN  2.514608       NaN     ...        \n",
       "1982  492.393773  3.433852       NaN  2.393040       NaN     ...        \n",
       "1983  512.841717  4.120072       NaN  3.476322       NaN     ...        \n",
       "1984  517.712364  6.843410       NaN  6.155112       NaN     ...        \n",
       "\n",
       "      tri_nimp   tri_rimp  tri_nexp   tri_rexp  tri_cpi_avg  tri_cpi_eop  \\\n",
       "1980  5.845231  22.976771  7.536496  11.147396    21.199595          NaN   \n",
       "1981  5.950479  20.696723  7.547601   9.831831    24.237897          NaN   \n",
       "1982  8.089642  24.169345  6.696851   9.454611    27.057919          NaN   \n",
       "1983  7.517084  23.880103  5.631814   9.037296    31.163959          NaN   \n",
       "1984  6.133061  22.337196  5.857806  10.464674    35.319604          NaN   \n",
       "\n",
       "      tri_value_imp  tri_vol_imp  tri_value_exp  tri_vol_exp  \n",
       "1980       2.434417     3.466447       3.138857     3.984715  \n",
       "1981       2.478250     3.504405       3.143482     3.301179  \n",
       "1982       3.369167     4.092396       2.789155     3.174521  \n",
       "1983       3.130708     4.043421       2.345580     3.034402  \n",
       "1984       2.554292     3.782173       2.439704     3.513664  \n",
       "\n",
       "[5 rows x 64 columns]"
      ]
     },
     "execution_count": 12,
     "metadata": {},
     "output_type": "execute_result"
    }
   ],
   "source": [
    "### Merge all into one df\n",
    "caribbean_df = pd.concat([jam_df, dom_df, bah_df, trin_df], axis=1)\n",
    "caribbean_df.head()"
   ]
  },
  {
   "cell_type": "code",
   "execution_count": 13,
   "metadata": {
    "collapsed": false
   },
   "outputs": [
    {
     "data": {
      "text/plain": [
       "count     35.000000\n",
       "mean     652.181969\n",
       "std       90.321942\n",
       "min      457.463232\n",
       "25%      592.773641\n",
       "50%      676.591171\n",
       "75%      729.655422\n",
       "max      766.971989\n",
       "Name: jam_rgdp, dtype: float64"
      ]
     },
     "execution_count": 13,
     "metadata": {},
     "output_type": "execute_result"
    }
   ],
   "source": [
    "### Easily visualize and understand series data\n",
    "caribbean_df['jam_rgdp'].describe()"
   ]
  },
  {
   "cell_type": "code",
   "execution_count": 14,
   "metadata": {
    "collapsed": false
   },
   "outputs": [
    {
     "data": {
      "text/plain": [
       "<matplotlib.axes._subplots.AxesSubplot at 0x7ff5cd138e48>"
      ]
     },
     "execution_count": 14,
     "metadata": {},
     "output_type": "execute_result"
    },
    {
     "data": {
      "image/png": "[encoded data removed]",
      "text/plain": [
       "<matplotlib.figure.Figure at 0x7ff5cd127f28>"
      ]
     },
     "metadata": {},
     "output_type": "display_data"
    }
   ],
   "source": [
    "caribbean_df['jam_rgdp'].plot()"
   ]
  },
  {
   "cell_type": "code",
   "execution_count": 26,
   "metadata": {
    "collapsed": false
   },
   "outputs": [
    {
     "data": {
      "text/plain": [
       "<matplotlib.axes._subplots.AxesSubplot at 0x7ff5c9539e10>"
      ]
     },
     "execution_count": 26,
     "metadata": {},
     "output_type": "execute_result"
    },
    {
     "data": {
      "image/png": "[encoded data removed]",
      "text/plain": [
       "<matplotlib.figure.Figure at 0x7ff5c9548fd0>"
      ]
     },
     "metadata": {},
     "output_type": "display_data"
    }
   ],
   "source": [
    "### Create Growth Rate Series for jam_rgdp\n",
    "caribbean_df['jam_rgdp_growth'] = caribbean_df['jam_rgdp'].pct_change()\n",
    "caribbean_df['jam_rgdp_log_growth'] = np.log(1 + caribbean_df['jam_rgdp_growth'])\n",
    "caribbean_df['jam_rgdp_log_growth'].tail(15).plot()"
   ]
  },
  {
   "cell_type": "code",
   "execution_count": 32,
   "metadata": {
    "collapsed": false
   },
   "outputs": [
    {
     "data": {
      "text/plain": [
       "<matplotlib.axes._subplots.AxesSubplot at 0x7ff5c9391ac8>"
      ]
     },
     "execution_count": 32,
     "metadata": {},
     "output_type": "execute_result"
    },
    {
     "data": {
      "image/png": "[encoded data removed]",
      "text/plain": [
       "<matplotlib.figure.Figure at 0x7ff5c9357cc0>"
      ]
     },
     "metadata": {},
     "output_type": "display_data"
    }
   ],
   "source": [
    "### Create Growth Rate Series for jam_rgdp\n",
    "caribbean_df['bah_drgdp'] = caribbean_df['bah_rgdp'].pct_change()\n",
    "caribbean_df['bah_dlrgdp'] = np.log(1 + caribbean_df['bah_drgdp'])\n",
    "caribbean_df['bah_dlrgdp'].tail(10).plot()"
   ]
  },
  {
   "cell_type": "code",
   "execution_count": 30,
   "metadata": {
    "collapsed": false
   },
   "outputs": [
    {
     "data": {
      "text/plain": [
       "count    34.000000\n",
       "mean      0.019869\n",
       "std       0.032963\n",
       "min      -0.052103\n",
       "25%       0.009163\n",
       "50%       0.023228\n",
       "75%       0.035593\n",
       "max       0.110647\n",
       "Name: bah_dlrgdp, dtype: float64"
      ]
     },
     "execution_count": 30,
     "metadata": {},
     "output_type": "execute_result"
    }
   ],
   "source": [
    "caribbean_df['bah_dlrgdp'].describe()"
   ]
  },
  {
   "cell_type": "code",
   "execution_count": 35,
   "metadata": {
    "collapsed": false
   },
   "outputs": [
    {
     "data": {
      "text/plain": [
       "jam_curr_avg           0.542857\n",
       "jam_curr_eop           0.863636\n",
       "jam_tot_empl           0.542857\n",
       "jam_unemp_rate         0.542857\n",
       "jam_ngdp               0.542857\n",
       "jam_rgdp               0.542857\n",
       "jam_nimp               0.542857\n",
       "jam_rimp                    inf\n",
       "jam_nexp               0.542857\n",
       "jam_rexp                    inf\n",
       "jam_cpi_avg            0.542857\n",
       "jam_cpi_eop            0.542857\n",
       "jam_value_imp          0.542857\n",
       "jam_vol_imp            0.542857\n",
       "jam_value_exp          0.542857\n",
       "jam_vol_exp            0.542857\n",
       "dom_curr_avg           0.542857\n",
       "dom_curr_eop           0.791667\n",
       "dom_tot_empl           1.266667\n",
       "dom_unemp_rate         0.791667\n",
       "dom_ngdp               0.542857\n",
       "dom_rgdp               0.542857\n",
       "dom_nimp               0.542857\n",
       "dom_rimp               0.542857\n",
       "dom_nexp               0.542857\n",
       "dom_rexp               0.542857\n",
       "dom_cpi_avg            0.542857\n",
       "dom_cpi_eop            0.542857\n",
       "dom_value_imp          0.542857\n",
       "dom_vol_imp            0.542857\n",
       "                         ...   \n",
       "bah_nexp               0.730769\n",
       "bah_rexp               0.730769\n",
       "bah_cpi_avg            0.542857\n",
       "bah_cpi_eop            0.542857\n",
       "bah_value_imp          0.542857\n",
       "bah_vol_imp            0.542857\n",
       "bah_value_exp          0.542857\n",
       "bah_vol_exp            0.542857\n",
       "tri_curr_avg           0.542857\n",
       "tri_curr_eop           1.266667\n",
       "tri_tot_empl           0.558824\n",
       "tri_unemp_rate         0.558824\n",
       "tri_ngdp               0.542857\n",
       "tri_rgdp               0.542857\n",
       "tri_nimp               0.542857\n",
       "tri_rimp               0.542857\n",
       "tri_nexp               0.542857\n",
       "tri_rexp               0.575758\n",
       "tri_cpi_avg            0.542857\n",
       "tri_cpi_eop            0.791667\n",
       "tri_value_imp          0.542857\n",
       "tri_vol_imp            0.542857\n",
       "tri_value_exp          0.542857\n",
       "tri_vol_exp            0.542857\n",
       "jam_rgdp_growth        0.558824\n",
       "jam_rgdp_log_growth    0.558824\n",
       "bah_rgdp_growth        0.558824\n",
       "bah_rgdp_log_growth    0.558824\n",
       "bah_drgdp              0.558824\n",
       "bah_dlrgdp             0.558824\n",
       "dtype: float64"
      ]
     },
     "execution_count": 35,
     "metadata": {},
     "output_type": "execute_result"
    }
   ],
   "source": [
    "(caribbean_df[caribbean_df['bah_dlrgdp'] > .019869].shape[0])/(caribbean_df.count())"
   ]
  },
  {
   "cell_type": "code",
   "execution_count": 41,
   "metadata": {
    "collapsed": false
   },
   "outputs": [
    {
     "data": {
      "text/plain": [
       "2014    1169.406445\n",
       "2013    1080.993505\n",
       "2012    1002.955674\n",
       "2011     954.631287\n",
       "2010     916.727948\n",
       "2009     780.285322\n",
       "2008     740.225645\n",
       "2007     688.281271\n",
       "2006     585.357750\n",
       "2005     477.271548\n",
       "2002     404.848751\n",
       "2004     381.424003\n",
       "2003     376.656135\n",
       "2001     349.519624\n",
       "2000     339.959593\n",
       "1999     290.658099\n",
       "1998     236.572239\n",
       "1997     169.250211\n",
       "1996      95.160375\n",
       "1995      41.296946\n",
       "1988      32.751550\n",
       "1989      32.492990\n",
       "1990      30.668538\n",
       "1991      30.267926\n",
       "1994      20.141242\n",
       "1993      16.885321\n",
       "1986      15.252267\n",
       "1992      14.446889\n",
       "1980      11.374433\n",
       "1981      11.215082\n",
       "1984       9.024328\n",
       "1983       7.377157\n",
       "1982       4.814590\n",
       "1987       3.524856\n",
       "1985       2.503580\n",
       "dtype: float64"
      ]
     },
     "execution_count": 41,
     "metadata": {},
     "output_type": "execute_result"
    }
   ],
   "source": [
    "(abs(caribbean_df['jam_rgdp']-caribbean_df['dom_rgdp'])).sort_values(ascending=False)"
   ]
  },
  {
   "cell_type": "code",
   "execution_count": 43,
   "metadata": {
    "collapsed": false
   },
   "outputs": [
    {
     "data": {
      "text/plain": [
       "2005    35.036017\n",
       "2006    51.091195\n",
       "2007    52.818282\n",
       "2008    71.209640\n",
       "2009    56.185654\n",
       "2010    56.873944\n",
       "2011          NaN\n",
       "2012          NaN\n",
       "2013    55.393110\n",
       "2014    53.967259\n",
       "Name: tri_rexp, dtype: float64"
      ]
     },
     "execution_count": 43,
     "metadata": {},
     "output_type": "execute_result"
    }
   ],
   "source": [
    "caribbean_df['tri_rexp'].tail(10)"
   ]
  },
  {
   "cell_type": "code",
   "execution_count": 51,
   "metadata": {
    "collapsed": false
   },
   "outputs": [
    {
     "data": {
      "text/plain": [
       "2010    56.873944\n",
       "2011    58.873944\n",
       "2012    60.873944\n",
       "2013    55.393110\n",
       "2014    53.967259\n",
       "Name: tri_rexp, dtype: float64"
      ]
     },
     "execution_count": 51,
     "metadata": {},
     "output_type": "execute_result"
    }
   ],
   "source": [
    "### Clean up NA values\n",
    "caribbean_df.set_value(2011, 'tri_rexp', np.nan)\n",
    "caribbean_df.set_value(2012, 'tri_rexp', np.nan)\n",
    "for i, row in caribbean_df[caribbean_df['tri_rexp'].isnull() == True].iterrows():\n",
    "    caribbean_df.set_value(i, 'tri_rexp', caribbean_df['tri_rexp'][i-1] + 2)\n",
    "\n",
    "caribbean_df['tri_rexp'].tail()"
   ]
  },
  {
   "cell_type": "code",
   "execution_count": 52,
   "metadata": {
    "collapsed": false
   },
   "outputs": [
    {
     "data": {
      "text/plain": [
       "'NO IDEA'"
      ]
     },
     "execution_count": 52,
     "metadata": {},
     "output_type": "execute_result"
    }
   ],
   "source": [
    "### Cubic Spline\n",
    "\"\"\"NO IDEA\"\"\""
   ]
  },
  {
   "cell_type": "code",
   "execution_count": 73,
   "metadata": {
    "collapsed": false
   },
   "outputs": [
    {
     "data": {
      "text/plain": [
       "<matplotlib.axes._subplots.AxesSubplot at 0x7ff5c9644940>"
      ]
     },
     "execution_count": 73,
     "metadata": {},
     "output_type": "execute_result"
    },
    {
     "data": {
      "image/png": "[encoded data removed]",
      "text/plain": [
       "<matplotlib.figure.Figure at 0x7ff5c9141c18>"
      ]
     },
     "metadata": {},
     "output_type": "display_data"
    }
   ],
   "source": [
    "### Sampling\n",
    "sample = caribbean_df.iloc[20:35]\n",
    "sample['bah_rgdp'].plot()"
   ]
  },
  {
   "cell_type": "code",
   "execution_count": 84,
   "metadata": {
    "collapsed": false
   },
   "outputs": [
    {
     "data": {
      "text/plain": [
       "2000    0.040652\n",
       "2001    0.025917\n",
       "2004    0.008790\n",
       "2005    0.033389\n",
       "2006    0.024857\n",
       "2012    0.010281\n",
       "Name: bah_dlrgdp, dtype: float64"
      ]
     },
     "execution_count": 84,
     "metadata": {},
     "output_type": "execute_result"
    }
   ],
   "source": [
    "### Restrict sample to periods of rgdp increasing and unemployment decreasing\n",
    "caribbean_df['bah_dunemp_rate'] = caribbean_df['bah_unemp_rate'].pct_change()\n",
    "caribbean_df['bah_dlunemp_rate'] = np.log(1 + caribbean_df['bah_dunemp_rate'])\n",
    "sample = caribbean_df[(caribbean_df['bah_dlunemp_rate'] < 0) & (caribbean_df['bah_dlrgdp'] > 0)].loc[2000:2014]\n",
    "sample['bah_dlrgdp']"
   ]
  },
  {
   "cell_type": "code",
   "execution_count": null,
   "metadata": {
    "collapsed": true
   },
   "outputs": [],
   "source": []
  }
 ],
 "metadata": {
  "kernelspec": {
   "display_name": "Python 3",
   "language": "python",
   "name": "python3"
  },
  "language_info": {
   "codemirror_mode": {
    "name": "ipython",
    "version": 3
   },
   "file_extension": ".py",
   "mimetype": "text/x-python",
   "name": "python",
   "nbconvert_exporter": "python",
   "pygments_lexer": "ipython3",
   "version": "3.6.0"
  }
 },
 "nbformat": 4,
 "nbformat_minor": 2
}
